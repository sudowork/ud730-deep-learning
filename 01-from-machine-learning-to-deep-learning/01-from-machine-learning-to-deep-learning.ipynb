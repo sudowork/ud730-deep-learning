{
 "cells": [
  {
   "cell_type": "markdown",
   "metadata": {},
   "source": [
    "# From Machine Learning to Deep Learning"
   ]
  },
  {
   "cell_type": "markdown",
   "metadata": {},
   "source": [
    "## Supervised Classification\n",
    "\n",
    "Classification is taking an input and assigning a label to it. The supervised portion of it comes from having a training dataset of already labeled examples."
   ]
  },
  {
   "cell_type": "markdown",
   "metadata": {},
   "source": [
    "## Logistic Regression\n",
    "\n",
    "$$ Wx + b = y $$\n",
    "\n",
    "Scores ($y_i$) are also called _logits_."
   ]
  },
  {
   "cell_type": "markdown",
   "metadata": {},
   "source": [
    "## Softmax Function\n",
    "\n",
    "\n",
    "Turns scores into proper probabilities. Proper probabilities sum to 1. They will be large when scores are large; small when scores are small.\n",
    "\n",
    "$$ S(y_i) = \\frac{e^{y_i}}{\\sum\\limits_{j}e^{y_j}} $$\n",
    "\n",
    "### Quiz: Softmax\n",
    "\n",
    "\n",
    "Behavior when scores are multiplied by 10: Probabilities get closer to 0 and 1 (more extreme since deviation of $e^{y_i}$ is much higher).\n",
    "\n",
    "Behavior when scores are divided by 10: Probabilities get closer to uniform distribution ($\\frac{1}{n}$) since deviations becomes much smaller and scores are more similar."
   ]
  },
  {
   "cell_type": "code",
   "execution_count": 1,
   "metadata": {
    "collapsed": false
   },
   "outputs": [
    {
     "name": "stdout",
     "output_type": "stream",
     "text": [
      "[ 0.8360188   0.11314284  0.05083836]\n"
     ]
    },
    {
     "data": {
      "image/png": "[encoded data removed]",
      "text/plain": [
       "<matplotlib.figure.Figure at 0x1109cebd0>"
      ]
     },
     "metadata": {},
     "output_type": "display_data"
    }
   ],
   "source": [
    "\"\"\"Softmax.\"\"\"\n",
    "\n",
    "scores = [3.0, 1.0, 0.2]\n",
    "\n",
    "import numpy as np\n",
    "\n",
    "def softmax(x):\n",
    "    \"\"\"Compute softmax values for each sets of scores in x.\"\"\"\n",
    "    return np.exp(x) / np.sum(np.exp(x), axis=0)\n",
    "\n",
    "print(softmax(scores))\n",
    "\n",
    "# Plot softmax curves\n",
    "%matplotlib inline\n",
    "import matplotlib.pyplot as plt\n",
    "x = np.arange(-2.0, 6.0, 0.1)\n",
    "scores = np.vstack([x, np.ones_like(x), 0.2 * np.ones_like(x)])\n",
    "\n",
    "plt.plot(x, softmax(scores).T, linewidth=2)\n",
    "plt.show()"
   ]
  },
  {
   "cell_type": "markdown",
   "metadata": {},
   "source": [
    "## One-Hot Encoding\n",
    "\n",
    "Encode $n$ labels into a vector of $n$ length, where each vector contains one element that is equal to $1$, and the rest are $0$. The position of the 1 element encodes each label.\n",
    "\n",
    "\\\\[\n",
    "a \\rightarrow \\begin{pmatrix} 1\\\\0\\\\0\\\\0 \\end{pmatrix}\n",
    "b \\rightarrow \\begin{pmatrix} 0\\\\1\\\\0\\\\0 \\end{pmatrix}\n",
    "c \\rightarrow \\begin{pmatrix} 0\\\\0\\\\1\\\\0 \\end{pmatrix}\n",
    "d \\rightarrow \\begin{pmatrix} 0\\\\0\\\\0\\\\1 \\end{pmatrix}\n",
    "\\\\]\n",
    "\n",
    "One down-side of one-hot encoding is that it will result in large vectors if the number of labels is large. This can be solved with _embeddings_.\n"
   ]
  },
  {
   "cell_type": "markdown",
   "metadata": {},
   "source": [
    "## Cross Entropy\n",
    "\n",
    "Cross entropy is a natural way to measure the distance between two probability vectors. $S(y)$ is the softmax function applied to the logits $y$. $L$ is the one-hot encoded labels.\n",
    "\n",
    "$$ D(S, L) = -\\sum\\limits_{i} L_i \\log(S_i) $$\n",
    "\n",
    "For example:\n",
    "\n",
    "\\\\[\n",
    "S(y) = \\begin{pmatrix} 0.7 \\\\\\ 0.2 \\\\\\ 0.1 \\end{pmatrix}\n",
    "L_i = \\begin{pmatrix} 1 \\\\\\ 0 \\\\\\ 0 \\end{pmatrix}\n",
    "\\\\]\n",
    "\n",
    "Cross-entropy is not symmetric: $D(S, L) \\ne D(L, S)$."
   ]
  },
  {
   "cell_type": "markdown",
   "metadata": {},
   "source": [
    "## Loss and Minimizing Cross Entropy\n",
    "\n",
    "Loss $\\mathcal{L}$ in this definition is the average cross entropy distance over the entire training set.\n",
    "\n",
    "$$ \\mathcal{L}(W, b) = \\frac{1}{N} \\sum\\limits_i D(S(Wx_i + b), L_i) $$\n",
    "\n",
    "Loss is a function of the weights and the biases. We need to minimize loss; one way to do so is gradient descent.\n",
    "\n",
    "### Gradient Descent\n",
    "\n",
    "Use gradient descent to minimize loss. Find the derivative of the loss function $\\mathcal{L}$ and apply a learning rate $\\alpha$.\n",
    "\n",
    "$$ -\\alpha\\Delta \\mathcal{L}(W, b) $$\n",
    "\n",
    "![Gradient Descent](gradient-descent.png)"
   ]
  },
  {
   "cell_type": "markdown",
   "metadata": {},
   "source": [
    "## Recap: Multinomial Logistic Classification\n",
    "\n",
    "Feed input $x$ into linear model $y(x)=Wx+b$ to produce logits.\n",
    "\n",
    "With logits $y$, feed them into the softmax function $S(y_i) = \\frac{e^{y_i}}{\\sum\\limits_{j}e^{y_j}}$ to produce probabilities.\n",
    "\n",
    "With probabilities $S(y)$ and one-hot-encoded labels $L$, determine the cross entropy $D(S, L) = -\\sum\\limits_{i} L_i \\log(S_i)$.\n",
    "\n",
    "![Depiction of Multinomial Logistic Classification](multinomial-logistic-classification.png)"
   ]
  },
  {
   "cell_type": "markdown",
   "metadata": {},
   "source": [
    "## Normalized Inputs and Initial Weights\n",
    "\n",
    "### Normalizing Inputs\n",
    "\n",
    "Due to floating point error, we want to maintain numerical stability. One way to do this is to using the following guiding principal. Each variable $x_i$ should have a mean of $0$ and equal variance $\\sigma(x_i) = \\sigma(x_j)$.\n",
    "\n",
    "When variables are badly conditioned (unevenly scaled), then the optimizer has to do a lot of searching (more iterations/compute).\n",
    "\n",
    "![Feature Scaling](scaling.png)\n",
    "\n",
    "You can normalize an input by:\n",
    "\n",
    "$$ \\mbox{normalize}(x_i) = \\frac{2(x_i - \\mu_{x_i})}{x_{i,max} - x_{i,min}} $$\n",
    "\n",
    "### Weight Initialization\n",
    "\n",
    "Methodology: Draw weights randomly from a gaussian (normal) distribution with mean $0$ and standard deviation $\\sigma$. Standard deviation $\\sigma$ determines the order of magnitude of your outputs. The order of magnitude also determines the peakiness of the intial probability distribution.\n",
    "\n",
    "A peaky initialized probability distribution (large $\\sigma$) will result in an opinionated distribution. Whereas a probability distribution with small peaks will start out more uncertain. **Most likely, you want to choose a small $\\sigma$ to start out uncertain and let the optimizer make it become more certain.**"
   ]
  },
  {
   "cell_type": "markdown",
   "metadata": {},
   "source": [
    "## Measuring Performance\n",
    "\n",
    "Classifiers will tend to memorize the data (**overfit**). To prevent this, test your classifier performance using a test set (small portion of the original dataset). However, this too has issues due to the trial and error approach of training a classifier. You may implicitly help your classifier learn your test set through your human decisions.\n",
    "\n",
    "Simple solution: Carve out another dataset as your validation set that you only measure performance against after you've chosen your final model.\n",
    "\n",
    "### Validation and Test Set Size\n",
    "\n",
    "Statisticians cover your ears: a change that affects 30 examples in your validation set is usually statistically significant and can be trusted.\n",
    "\n",
    "For most validation sets, people tend to hold back at least 30,000 examples since that mean accuracy changes $\\gt 0.1\\%$ should be statistically significant, giving you high enough resolution for your changes.\n",
    "\n",
    "**NOTE**: This is only true for datasets with **balanced** classes. Consider cross-validation if you have unbalanced classes.\n",
    "\n",
    "### Cross-Validation ($k$-fold)\n",
    "\n",
    "Cross-validation involves splitting your dataset into $k$ folds. You can then evaluate your model $k$ times, using $k - 1$ folds as training data and the left over fold as the test set.\n",
    "\n",
    "You can use different stratification strategies depending on how representative you want each fold to be.\n",
    "\n",
    "Cross-validation is often slow, so getting more data is often the right solution.\n",
    "\n",
    "![Cross-Validation](cross-validation.png)\n",
    "\n",
    "\n",
    "#### Statistically Significant Cross-Validation\n",
    "\n",
    "Number of folds $k$ has to be large enough (minimum 25-30) in order for the error rate $D_j = E_{1j} - E_{2j}$ between two classifiers $C1$ and $C2$ to be roughly normally distributed with mean $D_{TRUE}$.\n",
    "\n",
    "Given the performance of two classifiers $C1$ and $C2$ using $k=25$ fold cross-validation, the variance $\\sigma^2$ can be measured as:\n",
    "\n",
    "$$ \\sigma^2_{est} = \\frac{\\sum^{25}_{j=1}(D_j-D{av})^2}{24 \\cdot 25} $$\n",
    "\n",
    "The condifence interval for $D_{TRUE}$ is computed as:\n",
    "\n",
    "$$ D_{TRUE} = D_{av} \\pm \\sigma^2_{est}t_{(1-\\alpha)24} $$\n",
    "\n",
    "where $t_{(1-\\alpha)24}$ is the $t$ distribution coefficient found from a lookup table. $t_{(1-\\alpha)}$ denotes the cumulative probability of $(1-\\alpha)$, and 24 is the degrees of freedom ($k-1$)."
   ]
  },
  {
   "cell_type": "markdown",
   "metadata": {},
   "source": [
    "## Stochastic Gradient Descent (SGD)\n",
    "\n",
    "Instead of computing the loss over all the data, compute a very bad estimate of the loss based on a **tiny, random sample** of the data. Use this sampled loss to compute the gradient, which may at times even result in more loss. Compensate by doing many times, taking smaller steps at a time.\n",
    "\n",
    "SGD scales well with both data and model size. It's fundamentally a bad optimizer; however, it's the only one that's fast enough in practice. As a result, there are many practical considerations one needs to take.\n",
    "\n",
    "![Stochastic Gradient Descent](stochastic-gradient-descent.png)\n",
    "\n",
    "### Helping SGD\n",
    "\n",
    "#### Normalizing Inputs\n",
    "\n",
    "Covered above. Recap: variables should have a mean of 0 and equal variance (small).\n",
    "\n",
    "#### Initial Weights\n",
    "\n",
    "Covered above. Recap: Should be random and normally distributed with a mean of 0 and equal variance (small).\n",
    "\n",
    "#### Momentum\n",
    "\n",
    "Each step taken in SGD occurs in a random direction. Rather than take each of those steps, utilize accumulated knowledge. Keep a running average $M$ of the gradient.\n",
    "\n",
    "$$ M \\leftarrow 0.9M + \\Delta\\mathcal{L} $$\n",
    "\n",
    "Use the running average instead of the direction of the current batch of the data:\n",
    "\n",
    "$$ -\\alpha \\Delta M(W,b) $$\n",
    "\n",
    "This momentum technique usually works pretty well and leads to better convergence.\n",
    "\n",
    "#### Learning Rate Decay\n",
    "\n",
    "Make the step smaller and smaller as your train by controlling the learning rate $\\alpha$. Some use an exponential decay. Some decrease the learning rate everytime there's a plateau."
   ]
  },
  {
   "cell_type": "markdown",
   "metadata": {},
   "source": [
    "## Hyperparameter Tuning\n",
    "\n",
    "### Learning Rate Tuning\n",
    "\n",
    "Having a higher learning rate will not necessarily mean you will get to a better model faster. In fact the opposite may be true: a lower learning rate may get you to a better model faster.\n",
    "\n",
    "Never confuse how quickly you learn with how well you train.\n",
    "\n",
    "![Learning Rate Tuning](learning-rate-tuning.png)\n",
    "\n",
    "### SGD \"Black Magic\"\n",
    "\n",
    "Many hyper-parameters:\n",
    "\n",
    "- Initial learning rate\n",
    "- Learning rate decay\n",
    "- Momentum\n",
    "- Batch size\n",
    "- Weight initialization\n",
    "\n",
    "In practice, when things don't work, **try lowering your learning rate first**.\n",
    "\n",
    "### Adagrad\n",
    "\n",
    "Learning is less sensitive to hyper-parameters:\n",
    "\n",
    "- <strike>Initial learning rate</strike>\n",
    "- <strike>Learning rate decay</strike>\n",
    "- <strike>Momentum</strike>\n",
    "- Batch size\n",
    "- Weight initialization\n",
    "\n",
    "However, it often tends to be a little worse than *precisely-tuned* SGD with momentum."
   ]
  }
 ],
 "metadata": {
  "kernelspec": {
   "display_name": "Python 2",
   "language": "python",
   "name": "python2"
  },
  "language_info": {
   "codemirror_mode": {
    "name": "ipython",
    "version": 2
   },
   "file_extension": ".py",
   "mimetype": "text/x-python",
   "name": "python",
   "nbconvert_exporter": "python",
   "pygments_lexer": "ipython2",
   "version": "2.7.12"
  }
 },
 "nbformat": 4,
 "nbformat_minor": 0
}
